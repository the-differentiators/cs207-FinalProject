{
 "cells": [
  {
   "cell_type": "code",
   "execution_count": 1,
   "metadata": {},
   "outputs": [],
   "source": [
    "import sys\n",
    "sys.path.append(\"../\")\n",
    "import pandas as pd\n",
    "import numpy as np\n",
    "from ADKit.AutoDiff import Ad_Var\n",
    "import matplotlib.pyplot as plt\n",
    "from sklearn.preprocessing import MinMaxScaler"
   ]
  },
  {
   "cell_type": "code",
   "execution_count": 2,
   "metadata": {},
   "outputs": [],
   "source": [
    "battles = pd.read_csv(\"battles.csv\")"
   ]
  },
  {
   "cell_type": "code",
   "execution_count": 3,
   "metadata": {},
   "outputs": [
    {
     "data": {
      "text/html": [
       "<div>\n",
       "<style scoped>\n",
       "    .dataframe tbody tr th:only-of-type {\n",
       "        vertical-align: middle;\n",
       "    }\n",
       "\n",
       "    .dataframe tbody tr th {\n",
       "        vertical-align: top;\n",
       "    }\n",
       "\n",
       "    .dataframe thead th {\n",
       "        text-align: right;\n",
       "    }\n",
       "</style>\n",
       "<table border=\"1\" class=\"dataframe\">\n",
       "  <thead>\n",
       "    <tr style=\"text-align: right;\">\n",
       "      <th></th>\n",
       "      <th>name</th>\n",
       "      <th>attacker_outcome</th>\n",
       "      <th>attacker_size</th>\n",
       "      <th>defender_size</th>\n",
       "    </tr>\n",
       "  </thead>\n",
       "  <tbody>\n",
       "    <tr>\n",
       "      <td>0</td>\n",
       "      <td>Battle of the Golden Tooth</td>\n",
       "      <td>win</td>\n",
       "      <td>15000</td>\n",
       "      <td>4000</td>\n",
       "    </tr>\n",
       "    <tr>\n",
       "      <td>1</td>\n",
       "      <td>Battle of Riverrun</td>\n",
       "      <td>win</td>\n",
       "      <td>15000</td>\n",
       "      <td>10000</td>\n",
       "    </tr>\n",
       "    <tr>\n",
       "      <td>2</td>\n",
       "      <td>Battle of the Green Fork</td>\n",
       "      <td>loss</td>\n",
       "      <td>18000</td>\n",
       "      <td>20000</td>\n",
       "    </tr>\n",
       "    <tr>\n",
       "      <td>3</td>\n",
       "      <td>Battle of the Whispering Wood</td>\n",
       "      <td>win</td>\n",
       "      <td>1875</td>\n",
       "      <td>6000</td>\n",
       "    </tr>\n",
       "    <tr>\n",
       "      <td>4</td>\n",
       "      <td>Battle of the Camps</td>\n",
       "      <td>win</td>\n",
       "      <td>6000</td>\n",
       "      <td>12625</td>\n",
       "    </tr>\n",
       "    <tr>\n",
       "      <td>5</td>\n",
       "      <td>Battle of Torrhen's Square</td>\n",
       "      <td>win</td>\n",
       "      <td>244</td>\n",
       "      <td>900</td>\n",
       "    </tr>\n",
       "    <tr>\n",
       "      <td>6</td>\n",
       "      <td>Sack of Winterfell</td>\n",
       "      <td>win</td>\n",
       "      <td>618</td>\n",
       "      <td>2000</td>\n",
       "    </tr>\n",
       "    <tr>\n",
       "      <td>7</td>\n",
       "      <td>Battle of Oxcross</td>\n",
       "      <td>win</td>\n",
       "      <td>6000</td>\n",
       "      <td>10000</td>\n",
       "    </tr>\n",
       "    <tr>\n",
       "      <td>8</td>\n",
       "      <td>Siege of Storm's End</td>\n",
       "      <td>win</td>\n",
       "      <td>5000</td>\n",
       "      <td>20000</td>\n",
       "    </tr>\n",
       "    <tr>\n",
       "      <td>9</td>\n",
       "      <td>Battle of the Fords</td>\n",
       "      <td>loss</td>\n",
       "      <td>20000</td>\n",
       "      <td>10000</td>\n",
       "    </tr>\n",
       "    <tr>\n",
       "      <td>10</td>\n",
       "      <td>Sack of Harrenhal</td>\n",
       "      <td>win</td>\n",
       "      <td>100</td>\n",
       "      <td>100</td>\n",
       "    </tr>\n",
       "    <tr>\n",
       "      <td>11</td>\n",
       "      <td>Battle of the Blackwater</td>\n",
       "      <td>loss</td>\n",
       "      <td>21000</td>\n",
       "      <td>7250</td>\n",
       "    </tr>\n",
       "    <tr>\n",
       "      <td>12</td>\n",
       "      <td>Battle of Castle Black</td>\n",
       "      <td>loss</td>\n",
       "      <td>100000</td>\n",
       "      <td>1240</td>\n",
       "    </tr>\n",
       "    <tr>\n",
       "      <td>13</td>\n",
       "      <td>Retaking of Deepwood Motte</td>\n",
       "      <td>win</td>\n",
       "      <td>4500</td>\n",
       "      <td>200</td>\n",
       "    </tr>\n",
       "  </tbody>\n",
       "</table>\n",
       "</div>"
      ],
      "text/plain": [
       "                             name attacker_outcome  attacker_size  \\\n",
       "0      Battle of the Golden Tooth              win          15000   \n",
       "1              Battle of Riverrun              win          15000   \n",
       "2        Battle of the Green Fork             loss          18000   \n",
       "3   Battle of the Whispering Wood              win           1875   \n",
       "4             Battle of the Camps              win           6000   \n",
       "5      Battle of Torrhen's Square              win            244   \n",
       "6              Sack of Winterfell              win            618   \n",
       "7               Battle of Oxcross              win           6000   \n",
       "8            Siege of Storm's End              win           5000   \n",
       "9             Battle of the Fords             loss          20000   \n",
       "10              Sack of Harrenhal              win            100   \n",
       "11       Battle of the Blackwater             loss          21000   \n",
       "12         Battle of Castle Black             loss         100000   \n",
       "13     Retaking of Deepwood Motte              win           4500   \n",
       "\n",
       "    defender_size  \n",
       "0            4000  \n",
       "1           10000  \n",
       "2           20000  \n",
       "3            6000  \n",
       "4           12625  \n",
       "5             900  \n",
       "6            2000  \n",
       "7           10000  \n",
       "8           20000  \n",
       "9           10000  \n",
       "10            100  \n",
       "11           7250  \n",
       "12           1240  \n",
       "13            200  "
      ]
     },
     "execution_count": 3,
     "metadata": {},
     "output_type": "execute_result"
    }
   ],
   "source": [
    "battles"
   ]
  },
  {
   "cell_type": "code",
   "execution_count": 4,
   "metadata": {},
   "outputs": [],
   "source": [
    "battles['attacker_outcome'] = battles['attacker_outcome'].eq('win').mul(1) # transform the string outcome to 0/1s"
   ]
  },
  {
   "cell_type": "code",
   "execution_count": 5,
   "metadata": {},
   "outputs": [],
   "source": [
    "scaler = MinMaxScaler()\n",
    "battles_scaled = battles.copy()\n",
    "# scale the independent vars\n",
    "battles_scaled[['attacker_size','defender_size']] = pd.DataFrame(scaler.fit_transform(battles[['attacker_size','defender_size']]))"
   ]
  },
  {
   "cell_type": "code",
   "execution_count": 6,
   "metadata": {},
   "outputs": [
    {
     "data": {
      "image/png": "[encoded data removed]",
      "text/plain": [
       "<Figure size 432x288 with 1 Axes>"
      ]
     },
     "metadata": {
      "needs_background": "light"
     },
     "output_type": "display_data"
    }
   ],
   "source": [
    "plt.plot(battles_scaled.loc[battles['attacker_outcome'] == 1,'attacker_size'], battles_scaled.loc[battles['attacker_outcome'] == 1,'defender_size'],'bo', label = \"win\")\n",
    "plt.plot(battles_scaled.loc[battles['attacker_outcome'] == 0,'attacker_size'], battles_scaled.loc[battles['attacker_outcome'] == 0,'defender_size'],'ro', label = \"loss\")\n",
    "plt.xlabel('Attacker size')\n",
    "plt.ylabel('Defender size')\n",
    "plt.title('Game of Thrones Battles ')\n",
    "plt.legend()\n",
    "plt.show()"
   ]
  },
  {
   "cell_type": "code",
   "execution_count": 7,
   "metadata": {},
   "outputs": [],
   "source": [
    "# Initiate three Ad_Var for the weight of Attacker_size, weight of Defender_size, and the intercept\n",
    "attack_coef = Ad_Var(0, np.array([1,0,0]))\n",
    "defend_coef = Ad_Var(0, np.array([0,1,0]))\n",
    "intercept = Ad_Var(0, np.array([0,0,1]))\n",
    "\n",
    "N = 500\n",
    "lam = 0.5\n",
    "\n",
    "for j in range(N):\n",
    "    for i in range(len(battles_scaled['attacker_size'])):\n",
    "        # z = attack_coef*attacker_size + defend_coef*defender_size + intercept\n",
    "        # f = 1/(1 + exp(-z))\n",
    "        # L = 1/2*(f - y)**2\n",
    "        z = battles_scaled.loc[i,'attacker_size']*attack_coef + battles_scaled.loc[i,'defender_size']*defend_coef + intercept\n",
    "        f = Ad_Var.logistic(z)\n",
    "        L = (f - battles_scaled.loc[i,'attacker_outcome'])**2/2\n",
    "        attack_coef.set_val(attack_coef.get_val() - lam*L.get_ders()[0])\n",
    "        defend_coef.set_val(defend_coef.get_val() - lam*L.get_ders()[1])\n",
    "        intercept.set_val(intercept.get_val() - lam*L.get_ders()[2])"
   ]
  },
  {
   "cell_type": "code",
   "execution_count": 8,
   "metadata": {},
   "outputs": [
    {
     "name": "stdout",
     "output_type": "stream",
     "text": [
      "Attacker size coef:  -12.27774911375575\n",
      "Defender size coef:  -1.7737313645262605\n",
      "Intercept:  3.061811566871836\n"
     ]
    }
   ],
   "source": [
    "print('Attacker size coef: ',attack_coef.get_val())\n",
    "print('Defender size coef: ', defend_coef.get_val())\n",
    "print('Intercept: ', intercept.get_val())"
   ]
  },
  {
   "cell_type": "code",
   "execution_count": 9,
   "metadata": {},
   "outputs": [
    {
     "data": {
      "image/png": "[encoded data removed]",
      "text/plain": [
       "<Figure size 432x288 with 1 Axes>"
      ]
     },
     "metadata": {
      "needs_background": "light"
     },
     "output_type": "display_data"
    }
   ],
   "source": [
    "plt.plot(battles_scaled.loc[battles_scaled['attacker_outcome'] == 1,'attacker_size'], battles_scaled.loc[battles_scaled['attacker_outcome'] == 1,'defender_size'],'bo', label = \"win\")\n",
    "plt.plot(battles_scaled.loc[battles_scaled['attacker_outcome'] == 0,'attacker_size'], battles_scaled.loc[battles_scaled['attacker_outcome'] == 0,'defender_size'],'ro', label = \"loss\")\n",
    "\n",
    "plt.xlabel('Attacker size')\n",
    "plt.ylabel('Defender size')\n",
    "plt.title('Game of Thrones Battles ')\n",
    "plt.legend()\n",
    "ax = plt.gca()\n",
    "ax.autoscale(False)\n",
    "x_vals = np.array(ax.get_xlim())\n",
    "y_vals = -(x_vals * attack_coef.get_val() + intercept.get_val())/defend_coef.get_val()\n",
    "plt.plot(x_vals, y_vals, '--', c=\"red\")\n",
    "plt.show()"
   ]
  },
  {
   "cell_type": "code",
   "execution_count": 10,
   "metadata": {},
   "outputs": [],
   "source": [
    "# my unsucessful try on generalized gradient descent, below is a gradient descent only works for logistic regression\n",
    "\n",
    "X_train = battles_scaled[['attacker_size','defender_size']]\n",
    "y_train = battles_scaled['attacker_outcome']\n",
    "N = 500\n",
    "lam = 0.5\n",
    "\n",
    "def log_gradient_descent(X_train, y_train, N, lam, var = 2, intercept = True):\n",
    "    var_list = []\n",
    "    if intercept == True:\n",
    "        var = var + 1\n",
    "        X_train['intercept'] = 1\n",
    "    for i in range(var):\n",
    "        seed = np.zeros(var)\n",
    "        seed[i] = 1\n",
    "        var_list.append(Ad_Var(0,seed))\n",
    "    for j in range(N):\n",
    "        for row in range(len(y_train)):\n",
    "            z = 0 # initiate z to be 0 for updates\n",
    "            for var_k in range(var):\n",
    "                z = z + X_train.iloc[row,var_k]*var_list[var_k] \n",
    "            f = Ad_Var.logistic(z)\n",
    "            L = (f - y_train[row])**2/2\n",
    "            for var_k in range(var):\n",
    "                var_list[var_k].set_val(var_list[var_k].get_val() - lam*L.get_ders()[var_k])\n",
    "    return var_list"
   ]
  },
  {
   "cell_type": "code",
   "execution_count": 11,
   "metadata": {},
   "outputs": [
    {
     "name": "stderr",
     "output_type": "stream",
     "text": [
      "/Users/ivywang/opt/anaconda3/lib/python3.7/site-packages/ipykernel_launcher.py:12: SettingWithCopyWarning: \n",
      "A value is trying to be set on a copy of a slice from a DataFrame.\n",
      "Try using .loc[row_indexer,col_indexer] = value instead\n",
      "\n",
      "See the caveats in the documentation: http://pandas.pydata.org/pandas-docs/stable/user_guide/indexing.html#returning-a-view-versus-a-copy\n",
      "  if sys.path[0] == '':\n"
     ]
    }
   ],
   "source": [
    "results = log_gradient_descent(X_train,y_train,N,lam)"
   ]
  },
  {
   "cell_type": "code",
   "execution_count": 12,
   "metadata": {},
   "outputs": [
    {
     "name": "stdout",
     "output_type": "stream",
     "text": [
      "Attacker size coef:  -12.27774911375575\n",
      "Defender size coef:  -1.7737313645262605\n",
      "Intercept:  3.061811566871836\n"
     ]
    }
   ],
   "source": [
    "print('Attacker size coef: ',results[0].get_val())\n",
    "print('Defender size coef: ', results[1].get_val())\n",
    "print('Intercept: ', results[2].get_val())"
   ]
  },
  {
   "cell_type": "code",
   "execution_count": 13,
   "metadata": {},
   "outputs": [
    {
     "data": {
      "image/png": "[encoded data removed]",
      "text/plain": [
       "<Figure size 432x288 with 1 Axes>"
      ]
     },
     "metadata": {
      "needs_background": "light"
     },
     "output_type": "display_data"
    }
   ],
   "source": [
    "plt.plot(battles_scaled.loc[battles_scaled['attacker_outcome'] == 1,'attacker_size'], battles_scaled.loc[battles_scaled['attacker_outcome'] == 1,'defender_size'],'bo', label = \"win\")\n",
    "plt.plot(battles_scaled.loc[battles_scaled['attacker_outcome'] == 0,'attacker_size'], battles_scaled.loc[battles_scaled['attacker_outcome'] == 0,'defender_size'],'ro', label = \"loss\")\n",
    "\n",
    "plt.xlabel('Attacker size')\n",
    "plt.ylabel('Defender size')\n",
    "plt.title('Game of Thrones Battles ')\n",
    "plt.legend()\n",
    "ax = plt.gca()\n",
    "ax.autoscale(False)\n",
    "x_vals = np.array(ax.get_xlim())\n",
    "y_vals = -(x_vals * results[0].get_val() + results[2].get_val())/results[1].get_val()\n",
    "plt.plot(x_vals, y_vals, '--', c=\"red\")\n",
    "plt.show()"
   ]
  },
  {
   "cell_type": "code",
   "execution_count": 14,
   "metadata": {},
   "outputs": [],
   "source": [
    "def gd(f, df, x_list , lam , num_steps):\n",
    "    for j in range(num_steps):\n",
    "        for x in range(len(x_list)):\n",
    "            x.set_val(x.get_val() - lam*df(x))\n",
    "        fun = f(xx)\n",
    "    return(x,fun)"
   ]
  }
 ],
 "metadata": {
  "kernelspec": {
   "display_name": "Python 3",
   "language": "python",
   "name": "python3"
  },
  "language_info": {
   "codemirror_mode": {
    "name": "ipython",
    "version": 3
   },
   "file_extension": ".py",
   "mimetype": "text/x-python",
   "name": "python",
   "nbconvert_exporter": "python",
   "pygments_lexer": "ipython3",
   "version": "3.7.4"
  }
 },
 "nbformat": 4,
 "nbformat_minor": 2
}
