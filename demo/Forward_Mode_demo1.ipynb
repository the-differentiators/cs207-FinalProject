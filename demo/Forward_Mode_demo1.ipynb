{
 "cells": [
  {
   "cell_type": "markdown",
   "metadata": {},
   "source": [
    "# Forward Mode Code Demo"
   ]
  },
  {
   "cell_type": "code",
   "execution_count": 2,
   "metadata": {},
   "outputs": [],
   "source": [
    "import numpy as np\n",
    "import pandas as pd\n",
    "import sys\n",
    "sys.path.append('../')\n",
    "from src.AutoDiff import Ad_Var\n",
    "from mpl_toolkits.mplot3d import Axes3D\n",
    "%matplotlib widget\n",
    "import matplotlib.pyplot as plt"
   ]
  },
  {
   "cell_type": "markdown",
   "metadata": {},
   "source": [
    "## 1. Scalar function of one variable"
   ]
  },
  {
   "cell_type": "markdown",
   "metadata": {},
   "source": [
    "$$ f = sin^2(2x) $$\n",
    "Want to calculate the derivative of x at $\\frac{\\pi}{6}$"
   ]
  },
  {
   "cell_type": "code",
   "execution_count": 6,
   "metadata": {},
   "outputs": [
    {
     "name": "stdout",
     "output_type": "stream",
     "text": [
      "Value:  0.7499999999999999\n",
      "Derivative:  1.7320508075688776\n"
     ]
    }
   ],
   "source": [
    "x = Ad_Var(np.pi/6)\n",
    "f = (Ad_Var.sin(2*x))**2\n",
    "print('Value: ',f.get_val())\n",
    "print('Derivative: ', f.get_ders())"
   ]
  },
  {
   "cell_type": "code",
   "execution_count": 4,
   "metadata": {},
   "outputs": [
    {
     "name": "stdout",
     "output_type": "stream",
     "text": [
      "Value = 0.7499999999999999\n",
      "Derivative = 1.7320508075688776\n"
     ]
    }
   ],
   "source": [
    "print(f)"
   ]
  },
  {
   "cell_type": "code",
   "execution_count": null,
   "metadata": {},
   "outputs": [],
   "source": []
  },
  {
   "cell_type": "code",
   "execution_count": null,
   "metadata": {},
   "outputs": [],
   "source": []
  },
  {
   "cell_type": "markdown",
   "metadata": {},
   "source": [
    "## 1. Scalar function of multiple variables"
   ]
  },
  {
   "cell_type": "markdown",
   "metadata": {},
   "source": [
    "$$ f = sin^2(2x) + z^y $$\n",
    "Want to calculate the derivative of x at 1, y at 2, z at 3"
   ]
  },
  {
   "cell_type": "code",
   "execution_count": 8,
   "metadata": {},
   "outputs": [
    {
     "name": "stdout",
     "output_type": "stream",
     "text": [
      "Value:  9.826821810431806\n",
      "Gradient:  [-1.51360499  9.8875106   6.        ]\n"
     ]
    }
   ],
   "source": [
    "x = Ad_Var(1, np.array([1, 0, 0])) # x = Ad_Var(1,1)\n",
    "y = Ad_Var(2, np.array([0, 1, 0]))\n",
    "z = Ad_Var(3, np.array([0, 0, 1]))\n",
    "f = (Ad_Var.sin(2*x))**2 + z**y\n",
    "\n",
    "print('Value: ',f.get_val())\n",
    "print('Gradient: ', f.get_ders())"
   ]
  },
  {
   "cell_type": "code",
   "execution_count": 9,
   "metadata": {},
   "outputs": [
    {
     "name": "stdout",
     "output_type": "stream",
     "text": [
      "Value = 9.826821810431806\n",
      "Gradient = [-1.51360499  9.8875106   6.        ]\n"
     ]
    }
   ],
   "source": [
    "print(f)"
   ]
  },
  {
   "cell_type": "markdown",
   "metadata": {},
   "source": [
    "## 2. Vector function of multiple variables "
   ]
  },
  {
   "cell_type": "markdown",
   "metadata": {},
   "source": [
    "$$ f = \\begin{bmatrix}sin^2(2x) + z^y\\\\\n",
    "                e^x + z\n",
    "        \\end{bmatrix}$$ \n",
    "Want to calculate the derivative of x at 1, y at 2, z at 3"
   ]
  },
  {
   "cell_type": "code",
   "execution_count": 10,
   "metadata": {},
   "outputs": [
    {
     "name": "stdout",
     "output_type": "stream",
     "text": [
      "Value:  [9.82682181 5.71828183]\n",
      "Gradient:  [[-1.51360499  9.8875106   6.        ]\n",
      " [ 2.71828183  0.          1.        ]]\n"
     ]
    }
   ],
   "source": [
    "x = Ad_Var(1, np.array([1, 0, 0]))\n",
    "y = Ad_Var(2, np.array([0, 1, 0]))\n",
    "z = Ad_Var(3, np.array([0, 0, 1]))\n",
    "\n",
    "f = np.array([(Ad_Var.sin(2*x))**2 + z**y, Ad_Var.exp(x) + z])\n",
    "print('Value: ',Ad_Var.get_values(f))\n",
    "print('Gradient: ', Ad_Var.get_jacobian(f,2,3)) # get_jacobian(functions_array, functions_dim, vars_dim)"
   ]
  },
  {
   "cell_type": "code",
   "execution_count": 11,
   "metadata": {},
   "outputs": [
    {
     "name": "stdout",
     "output_type": "stream",
     "text": [
      "[Value = 9.826821810431806\n",
      "Gradient = [-1.51360499  9.8875106   6.        ]\n",
      " Value = 5.718281828459045\n",
      "Gradient = [2.71828183 0.         1.        ]]\n"
     ]
    }
   ],
   "source": [
    "print(f)"
   ]
  },
  {
   "cell_type": "markdown",
   "metadata": {},
   "source": [
    "## 3. Function of variables with multiple input"
   ]
  },
  {
   "cell_type": "markdown",
   "metadata": {},
   "source": [
    "$$ f = \\begin{bmatrix}sin^2(2x) + z^y\\\\\n",
    "                e^x + z\n",
    "        \\end{bmatrix}$$ \n",
    "Want to calculate the derivative of x at [1,2] , y at [2,3], z at 4 "
   ]
  },
  {
   "cell_type": "code",
   "execution_count": 12,
   "metadata": {},
   "outputs": [
    {
     "data": {
      "text/plain": [
       "{(1, 2, 4): (array([16.82682181,  6.71828183]),\n",
       "  array([[-1.51360499, 22.18070978,  8.        ],\n",
       "         [ 2.71828183,  0.        ,  1.        ]])),\n",
       " (1, 3, 4): (array([64.82682181,  6.71828183]),\n",
       "  array([[-1.51360499, 88.72283911, 48.        ],\n",
       "         [ 2.71828183,  0.        ,  1.        ]])),\n",
       " (2, 2, 4): (array([16.57275002, 11.3890561 ]),\n",
       "  array([[ 1.97871649, 22.18070978,  8.        ],\n",
       "         [ 7.3890561 ,  0.        ,  1.        ]])),\n",
       " (2, 3, 4): (array([64.57275002, 11.3890561 ]),\n",
       "  array([[ 1.97871649, 88.72283911, 48.        ],\n",
       "         [ 7.3890561 ,  0.        ,  1.        ]]))}"
      ]
     },
     "execution_count": 12,
     "metadata": {},
     "output_type": "execute_result"
    }
   ],
   "source": [
    "x = Ad_Var(ders = np.array([1, 0, 0]))\n",
    "y = Ad_Var(ders = np.array([0, 1, 0]))\n",
    "z = Ad_Var(ders = np.array([0, 0, 1]))\n",
    "\n",
    "f_string = \"[(Ad_Var.sin(2*x))**2 + z**y, Ad_Var.exp(x) + z]\"\n",
    "Ad_Var.grid_eval(f_string, ['x', 'y', 'z'], [x, y, z], [[1, 2], [2,3], [4]])"
   ]
  },
  {
   "cell_type": "markdown",
   "metadata": {},
   "source": [
    "$$ f = cos(x)sin(y) - \\frac{x^2}{5}  $$"
   ]
  },
  {
   "cell_type": "code",
   "execution_count": 5,
   "metadata": {},
   "outputs": [],
   "source": [
    "x = Ad_Var(ders = np.array([1, 0]))\n",
    "y = Ad_Var(ders = np.array([0, 1]))\n",
    "n = 100\n",
    "f_string = \"Ad_Var.cos(x)*Ad_Var.sin(y) - x**2/5 \"\n",
    "result = Ad_Var.grid_eval(f_string, ['x', 'y'], [x, y], [np.linspace(-5,5,n), np.linspace(-5,5,n)])"
   ]
  },
  {
   "cell_type": "code",
   "execution_count": 6,
   "metadata": {},
   "outputs": [],
   "source": [
    "xx = np.zeros(n**2)\n",
    "yy = np.zeros(n**2)\n",
    "f_values = np.zeros(n**2)\n",
    "f_der_x = np.zeros(n**2)\n",
    "f_der_y = np.zeros(n**2)\n",
    "for i in range(n**2):\n",
    "    xx[i] = list(result.keys())[i][0]\n",
    "    yy[i] = list(result.keys())[i][1]\n",
    "    f_values[i] = list(result.values())[i][0]\n",
    "    f_der_x[i] = list(result.values())[i][1][0]\n",
    "    f_der_y[i] = list(result.values())[i][1][1]   \n"
   ]
  },
  {
   "cell_type": "code",
   "execution_count": 7,
   "metadata": {},
   "outputs": [
    {
     "data": {
      "application/vnd.jupyter.widget-view+json": {
       "model_id": "d9d1741c59f74696a97d4bae1beb64eb",
       "version_major": 2,
       "version_minor": 0
      },
      "text/plain": [
       "Canvas(toolbar=Toolbar(toolitems=[('Home', 'Reset original view', 'home', 'home'), ('Back', 'Back to previous …"
      ]
     },
     "metadata": {},
     "output_type": "display_data"
    }
   ],
   "source": [
    "ax = Axes3D(plt.figure(figsize=(12, 8)))\n",
    "ax = plt.axes(projection='3d')\n",
    "ax.plot_surface(xx.reshape(-n,n), yy.reshape(-n,n), f_values.reshape(-n,n), alpha=0.5, cmap='viridis')\n",
    "ax.set_xlabel('x')\n",
    "ax.set_ylabel('y')\n",
    "ax.set_zlabel('f')\n",
    "ax.set_proj_type('ortho')\n",
    "plt.title('f = cos(x)*sin(y) - x**2/5 Function Value')\n",
    "plt.show()"
   ]
  },
  {
   "cell_type": "code",
   "execution_count": 8,
   "metadata": {},
   "outputs": [
    {
     "data": {
      "application/vnd.jupyter.widget-view+json": {
       "model_id": "c042d85f816e482fa312edd2b30ff7f5",
       "version_major": 2,
       "version_minor": 0
      },
      "text/plain": [
       "Canvas(toolbar=Toolbar(toolitems=[('Home', 'Reset original view', 'home', 'home'), ('Back', 'Back to previous …"
      ]
     },
     "metadata": {},
     "output_type": "display_data"
    }
   ],
   "source": [
    "ax = Axes3D(plt.figure(figsize=(12, 8)))\n",
    "ax = plt.axes(projection='3d')\n",
    "ax.plot_surface(xx.reshape(-n,n), yy.reshape(-n,n), f_der_x.reshape(-n,n), alpha=0.5, cmap='viridis')\n",
    "ax.set_xlabel('x')\n",
    "ax.set_ylabel('y')\n",
    "ax.set_zlabel('f')\n",
    "ax.set_proj_type('ortho')\n",
    "plt.title('f = cos(x)*sin(y) - x**2/5 Partial Derivative of x')\n",
    "plt.show()"
   ]
  },
  {
   "cell_type": "code",
   "execution_count": 9,
   "metadata": {},
   "outputs": [
    {
     "data": {
      "application/vnd.jupyter.widget-view+json": {
       "model_id": "892a04399bff43b5a57943df38a2432c",
       "version_major": 2,
       "version_minor": 0
      },
      "text/plain": [
       "Canvas(toolbar=Toolbar(toolitems=[('Home', 'Reset original view', 'home', 'home'), ('Back', 'Back to previous …"
      ]
     },
     "metadata": {},
     "output_type": "display_data"
    }
   ],
   "source": [
    "ax = Axes3D(plt.figure(figsize=(12, 8)))\n",
    "ax = plt.axes(projection='3d')\n",
    "ax.plot_surface(xx.reshape(-n,n), yy.reshape(-n,n), f_der_y.reshape(-n,n), alpha=0.5, cmap='viridis')\n",
    "ax.set_xlabel('x')\n",
    "ax.set_ylabel('y')\n",
    "ax.set_zlabel('f')\n",
    "ax.set_proj_type('ortho')\n",
    "plt.title('f = cos(x)*sin(y) - x**2/5 Partial Derivative of y')\n",
    "plt.show()"
   ]
  }
 ],
 "metadata": {
  "kernelspec": {
   "display_name": "Python 3",
   "language": "python",
   "name": "python3"
  },
  "language_info": {
   "codemirror_mode": {
    "name": "ipython",
    "version": 3
   },
   "file_extension": ".py",
   "mimetype": "text/x-python",
   "name": "python",
   "nbconvert_exporter": "python",
   "pygments_lexer": "ipython3",
   "version": "3.7.4"
  }
 },
 "nbformat": 4,
 "nbformat_minor": 2
}
