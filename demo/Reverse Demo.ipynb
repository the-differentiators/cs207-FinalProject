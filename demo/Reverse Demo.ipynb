{
 "cells": [
  {
   "cell_type": "code",
   "execution_count": 1,
   "metadata": {},
   "outputs": [],
   "source": [
    "import sys\n",
    "sys.path.append(\"../\")\n",
    "\n",
    "import numpy as np\n",
    "from ADKit.AutoDiff import rAd_Var"
   ]
  },
  {
   "cell_type": "markdown",
   "metadata": {},
   "source": [
    "### <center>Scalar function 1</center>\n",
    "$f(x,y) = xy + e^{xy}$ <br>\n",
    "$a = (1, 2)$"
   ]
  },
  {
   "cell_type": "code",
   "execution_count": 2,
   "metadata": {},
   "outputs": [],
   "source": [
    "x = rAd_Var(1)\n",
    "y = rAd_Var(2)\n",
    "\n",
    "x1 = x * y\n",
    "x2 = x1.exp()\n",
    "f = x1 + x2"
   ]
  },
  {
   "cell_type": "code",
   "execution_count": 3,
   "metadata": {},
   "outputs": [],
   "source": [
    "function_gradient = f.get_ders() # Backward pass\n",
    "function_value = f.get_val()"
   ]
  },
  {
   "cell_type": "code",
   "execution_count": 4,
   "metadata": {},
   "outputs": [
    {
     "name": "stdout",
     "output_type": "stream",
     "text": [
      "Gradient of the function: [16.7781122  8.3890561]\n",
      "Value of the function: 9.38905609893065\n"
     ]
    }
   ],
   "source": [
    "print(f\"Gradient of the function: {function_gradient}\")\n",
    "print(f\"Value of the function: {function_value}\")"
   ]
  },
  {
   "cell_type": "markdown",
   "metadata": {},
   "source": [
    "### <center>Scalar Function 2</center>\n",
    "$g(x,y,z) = \\sin{x}\\cos{y} + \\tan{z}$ <br>\n",
    "$a = (0, \\frac{\\pi}{2}, \\pi)$"
   ]
  },
  {
   "cell_type": "code",
   "execution_count": 5,
   "metadata": {},
   "outputs": [
    {
     "name": "stdout",
     "output_type": "stream",
     "text": [
      "Gradient of the function: [0.000000e+00 6.123234e-17 1.000000e+00]\n",
      "Value of the function: 0.9999999999999999\n"
     ]
    }
   ],
   "source": [
    "x, y, z = rAd_Var(0), rAd_Var(np.pi/2), rAd_Var(np.pi)\n",
    "g = x.cos() * y.sin() + z.tan()\n",
    "print(f\"Gradient of the function: {g.get_ders()}\")\n",
    "print(f\"Value of the function: {g.get_val()}\")"
   ]
  },
  {
   "cell_type": "markdown",
   "metadata": {},
   "source": [
    "### <center>Full Jacobian for function vectors</center>\n",
    "\n",
    "$f_{1}(x, y, z, a): y + 2^x + z + a$ <br>\n",
    "$f_{2}(x, z): 3x + z$ <br>\n",
    "$f_{3}(x, y): \\ln{x^y}$ <br>\n",
    "\n",
    "$a = (1,2,3,4)$"
   ]
  },
  {
   "cell_type": "code",
   "execution_count": 6,
   "metadata": {},
   "outputs": [],
   "source": [
    "def f1(x, y, z, a):\n",
    "    return y + 2*x + z + a\n",
    "def f2(x, z):\n",
    "    return 3 * x + z\n",
    "def f3(x, y):\n",
    "    return rAd_Var.log(x ** y)"
   ]
  },
  {
   "cell_type": "code",
   "execution_count": 7,
   "metadata": {},
   "outputs": [
    {
     "data": {
      "text/plain": [
       "array([[1., 2., 1., 1.],\n",
       "       [3., 0., 1., 0.],\n",
       "       [2., 0., 0., 0.]])"
      ]
     },
     "execution_count": 7,
     "metadata": {},
     "output_type": "execute_result"
    }
   ],
   "source": [
    "rAd_Var.get_jacobian([f1, f2, f3], ['x', 'y', 'z', 'a'], [1, 2, 3, 4])"
   ]
  }
 ],
 "metadata": {
  "kernelspec": {
   "display_name": "Python 3",
   "language": "python",
   "name": "python3"
  },
  "language_info": {
   "codemirror_mode": {
    "name": "ipython",
    "version": 3
   },
   "file_extension": ".py",
   "mimetype": "text/x-python",
   "name": "python",
   "nbconvert_exporter": "python",
   "pygments_lexer": "ipython3",
   "version": "3.7.3"
  }
 },
 "nbformat": 4,
 "nbformat_minor": 2
}
